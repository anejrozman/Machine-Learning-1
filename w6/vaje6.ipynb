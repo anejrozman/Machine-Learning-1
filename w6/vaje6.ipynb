{
 "cells": [
  {
   "cell_type": "markdown",
   "metadata": {},
   "source": [
    "# Vaje 6: Rezanje odločitvenih dreves in ansambli"
   ]
  },
  {
   "cell_type": "markdown",
   "metadata": {},
   "source": [
    "## Naloga 1: Rezanje dreves"
   ]
  },
  {
   "cell_type": "code",
   "execution_count": 2,
   "metadata": {},
   "outputs": [],
   "source": [
    "import numpy as np\n",
    "\n",
    "np.random.seed(18)\n",
    "X = np.random.random(size=(1000, 9))\n",
    "y = 1 + X[:, 0] - 2* X[:, 4] + 5 * (X[:, 3] * X[:, 4] - X[:, 5]*X[:, 8]) + np.random.normal(scale=5)\n",
    "y = y > y.mean() "
   ]
  },
  {
   "cell_type": "markdown",
   "metadata": {},
   "source": [
    "1.a: Preveri točnost odločilnih dreves na napovednih spremenljivkah $X$ in ciljnih vrednostih $y$."
   ]
  },
  {
   "cell_type": "code",
   "execution_count": 4,
   "metadata": {},
   "outputs": [
    {
     "name": "stdout",
     "output_type": "stream",
     "text": [
      "Accuracy:  0.89\n",
      "Accuracy:  0.875\n",
      "Accuracy:  0.875\n",
      "Accuracy:  0.87\n",
      "Accuracy:  0.835\n",
      "Average accuracy:  0.8690000000000001\n"
     ]
    }
   ],
   "source": [
    "from sklearn.tree import DecisionTreeClassifier\n",
    "from sklearn.model_selection import KFold\n",
    "from sklearn.metrics import accuracy_score\n",
    "\n",
    "np.random.seed(42)\n",
    "\n",
    "kf = KFold(n_splits=5, shuffle=True)\n",
    "scores = []\n",
    "\n",
    "for train_index, test_index in kf.split(X):\n",
    "    X_train, X_test = X[train_index], X[test_index]\n",
    "    y_train, y_test = y[train_index], y[test_index]\n",
    "    \n",
    "    clf = DecisionTreeClassifier()\n",
    "    clf.fit(X_train, y_train)\n",
    "    y_pred = clf.predict(X_test)\n",
    "    scores.append(accuracy_score(y_test, y_pred))\n",
    "    print(\"Accuracy: \", accuracy_score(y_test, y_pred))\n",
    "\n",
    "print(\"Average accuracy: \", np.mean(scores))"
   ]
  },
  {
   "cell_type": "markdown",
   "metadata": {},
   "source": [
    "1.b: S sprotnim rezanjem poskrbi, da se naučen napovedn model ne bo preprilegal podatkom. Uporabi parameter `min_samples_split`, ki določi najmanjše število primerov v listu pri katerem se list naprej deli."
   ]
  },
  {
   "cell_type": "code",
   "execution_count": 11,
   "metadata": {},
   "outputs": [
    {
     "name": "stdout",
     "output_type": "stream",
     "text": [
      "Average accuracy (min_samples_split=1):  0.8939999999999999\n",
      "Average accuracy (min_samples_split=2):  0.8879999999999999\n",
      "Average accuracy (min_samples_split=3):  0.8960000000000001\n",
      "Average accuracy (min_samples_split=4):  0.8949999999999999\n",
      "Average accuracy (min_samples_split=5):  0.8640000000000001\n",
      "Average accuracy (min_samples_split=6):  0.8800000000000001\n",
      "Average accuracy (min_samples_split=7):  0.875\n",
      "Average accuracy (min_samples_split=8):  0.8800000000000001\n",
      "Average accuracy (min_samples_split=9):  0.865\n",
      "Average accuracy (min_samples_split=10):  0.874\n",
      "Average accuracy (min_samples_split=11):  0.869\n",
      "Average accuracy (min_samples_split=12):  0.85\n",
      "Average accuracy (min_samples_split=13):  0.8539999999999999\n",
      "Average accuracy (min_samples_split=14):  0.877\n",
      "Average accuracy (min_samples_split=15):  0.858\n",
      "Average accuracy (min_samples_split=16):  0.8480000000000001\n",
      "Average accuracy (min_samples_split=17):  0.8619999999999999\n",
      "Average accuracy (min_samples_split=18):  0.837\n",
      "Average accuracy (min_samples_split=19):  0.8560000000000001\n",
      "Average accuracy (min_samples_split=20):  0.851\n",
      "Average accuracy (min_samples_split=21):  0.8539999999999999\n",
      "Average accuracy (min_samples_split=22):  0.8550000000000001\n",
      "Average accuracy (min_samples_split=23):  0.851\n",
      "Average accuracy (min_samples_split=24):  0.8459999999999999\n",
      "Average accuracy (min_samples_split=25):  0.8320000000000001\n",
      "Average accuracy (min_samples_split=26):  0.835\n",
      "Average accuracy (min_samples_split=27):  0.86\n",
      "Average accuracy (min_samples_split=28):  0.842\n",
      "Average accuracy (min_samples_split=29):  0.8389999999999999\n",
      "Average accuracy (min_samples_split=30):  0.8379999999999999\n",
      "Average accuracy (min_samples_split=31):  0.826\n",
      "Average accuracy (min_samples_split=32):  0.849\n",
      "Average accuracy (min_samples_split=33):  0.826\n",
      "Average accuracy (min_samples_split=34):  0.8400000000000001\n",
      "Average accuracy (min_samples_split=35):  0.8240000000000001\n",
      "Average accuracy (min_samples_split=36):  0.836\n",
      "Average accuracy (min_samples_split=37):  0.8480000000000001\n",
      "Average accuracy (min_samples_split=38):  0.8459999999999999\n",
      "Average accuracy (min_samples_split=39):  0.841\n",
      "Average accuracy (min_samples_split=40):  0.8379999999999999\n",
      "Average accuracy (min_samples_split=41):  0.8400000000000001\n",
      "Average accuracy (min_samples_split=42):  0.85\n",
      "Average accuracy (min_samples_split=43):  0.843\n",
      "Average accuracy (min_samples_split=44):  0.8639999999999999\n",
      "Average accuracy (min_samples_split=45):  0.8399999999999999\n",
      "Average accuracy (min_samples_split=46):  0.8559999999999999\n",
      "Average accuracy (min_samples_split=47):  0.829\n",
      "Average accuracy (min_samples_split=48):  0.843\n",
      "Average accuracy (min_samples_split=49):  0.841\n",
      "Average accuracy (min_samples_split=50):  0.82\n",
      "Average accuracy (min_samples_split=51):  0.835\n",
      "Average accuracy (min_samples_split=52):  0.8200000000000001\n",
      "Average accuracy (min_samples_split=53):  0.836\n",
      "Average accuracy (min_samples_split=54):  0.8380000000000001\n",
      "Average accuracy (min_samples_split=55):  0.8310000000000001\n",
      "Average accuracy (min_samples_split=56):  0.8240000000000001\n",
      "Average accuracy (min_samples_split=57):  0.817\n",
      "Average accuracy (min_samples_split=58):  0.845\n",
      "Average accuracy (min_samples_split=59):  0.8230000000000001\n",
      "Average accuracy (min_samples_split=60):  0.834\n",
      "Average accuracy (min_samples_split=61):  0.825\n",
      "Average accuracy (min_samples_split=62):  0.8320000000000001\n",
      "Average accuracy (min_samples_split=63):  0.849\n",
      "Average accuracy (min_samples_split=64):  0.8390000000000001\n",
      "Average accuracy (min_samples_split=65):  0.8150000000000001\n",
      "Average accuracy (min_samples_split=66):  0.845\n",
      "Average accuracy (min_samples_split=67):  0.8320000000000001\n",
      "Average accuracy (min_samples_split=68):  0.8300000000000001\n",
      "Average accuracy (min_samples_split=69):  0.8300000000000001\n",
      "Average accuracy (min_samples_split=70):  0.82\n",
      "Average accuracy (min_samples_split=71):  0.8149999999999998\n",
      "Average accuracy (min_samples_split=72):  0.8160000000000001\n",
      "Average accuracy (min_samples_split=73):  0.8220000000000001\n",
      "Average accuracy (min_samples_split=74):  0.8190000000000002\n",
      "Average accuracy (min_samples_split=75):  0.8190000000000002\n",
      "Average accuracy (min_samples_split=76):  0.819\n",
      "Average accuracy (min_samples_split=77):  0.826\n",
      "Average accuracy (min_samples_split=78):  0.8019999999999999\n",
      "Average accuracy (min_samples_split=79):  0.7939999999999999\n",
      "Average accuracy (min_samples_split=80):  0.8169999999999998\n",
      "Average accuracy (min_samples_split=81):  0.817\n",
      "Average accuracy (min_samples_split=82):  0.8140000000000001\n",
      "Average accuracy (min_samples_split=83):  0.818\n",
      "Average accuracy (min_samples_split=84):  0.8160000000000001\n",
      "Average accuracy (min_samples_split=85):  0.8169999999999998\n",
      "Average accuracy (min_samples_split=86):  0.8140000000000001\n",
      "Average accuracy (min_samples_split=87):  0.8150000000000001\n",
      "Average accuracy (min_samples_split=88):  0.818\n",
      "Average accuracy (min_samples_split=89):  0.805\n",
      "Average accuracy (min_samples_split=90):  0.8\n",
      "Average accuracy (min_samples_split=91):  0.8099999999999999\n",
      "Average accuracy (min_samples_split=92):  0.826\n",
      "Average accuracy (min_samples_split=93):  0.8039999999999999\n",
      "Average accuracy (min_samples_split=94):  0.7979999999999999\n",
      "Average accuracy (min_samples_split=95):  0.8019999999999999\n",
      "Average accuracy (min_samples_split=96):  0.8009999999999999\n",
      "Average accuracy (min_samples_split=97):  0.8160000000000001\n",
      "Average accuracy (min_samples_split=98):  0.8150000000000001\n",
      "Average accuracy (min_samples_split=99):  0.8099999999999999\n"
     ]
    },
    {
     "data": {
      "text/plain": [
       "[<matplotlib.lines.Line2D at 0x118b8a97e20>]"
      ]
     },
     "execution_count": 11,
     "metadata": {},
     "output_type": "execute_result"
    },
    {
     "data": {
      "image/png": "[encoded data removed]",
      "text/plain": [
       "<Figure size 640x480 with 1 Axes>"
      ]
     },
     "metadata": {},
     "output_type": "display_data"
    }
   ],
   "source": [
    "\n",
    "listScores = []\n",
    "for i in range(1, 100):\n",
    "    clf = DecisionTreeClassifier(min_samples_leaf=i)\n",
    "    scores = []\n",
    "    for train_index, test_index in kf.split(X):\n",
    "        X_train, X_test = X[train_index], X[test_index]\n",
    "        y_train, y_test = y[train_index], y[test_index]\n",
    "        clf.fit(X_train, y_train)\n",
    "        y_pred = clf.predict(X_test)\n",
    "        scores.append(accuracy_score(y_test, y_pred))\n",
    "    print(f\"Average accuracy (min_samples_split={i}): \", np.mean(scores))\n",
    "    listScores.append(np.mean(scores))\n",
    "\n",
    "import matplotlib.pyplot as plt\n",
    "\n",
    "plt.plot(range(1, 100), listScores)\n",
    "\n"
   ]
  },
  {
   "cell_type": "markdown",
   "metadata": {},
   "source": [
    "1.c: Najdi ustrezno vrednost parametra cp (`ccp_alpha` v sklearn) za naknadno rezanje odločitvenega drevesa."
   ]
  },
  {
   "cell_type": "code",
   "execution_count": 17,
   "metadata": {},
   "outputs": [
    {
     "name": "stdout",
     "output_type": "stream",
     "text": [
      "Average accuracy (ccp_alpha=0):  0.8690000000000001\n",
      "Average accuracy (ccp_alpha=0.01):  0.8949999999999999\n",
      "Average accuracy (ccp_alpha=0.02):  0.875\n",
      "Average accuracy (ccp_alpha=0.03):  0.89\n",
      "Average accuracy (ccp_alpha=0.05):  0.881\n",
      "Average accuracy (ccp_alpha=0.1):  0.883\n",
      "Average accuracy (ccp_alpha=0.2):  0.85\n",
      "Average accuracy (ccp_alpha=0.5):  0.821\n",
      "Average accuracy (ccp_alpha=1):  0.8130000000000001\n"
     ]
    },
    {
     "data": {
      "text/plain": [
       "[<matplotlib.lines.Line2D at 0x118bb2d1520>]"
      ]
     },
     "execution_count": 17,
     "metadata": {},
     "output_type": "execute_result"
    },
    {
     "data": {
      "image/png": "[encoded data removed]",
      "text/plain": [
       "<Figure size 640x480 with 1 Axes>"
      ]
     },
     "metadata": {},
     "output_type": "display_data"
    }
   ],
   "source": [
    "np.random.seed(42)\n",
    "\n",
    "listScores = []\n",
    "for a in [0, 0.01, 0.02, 0.03, 0.05, 0.1, 0.2, 0.5, 1]:\n",
    "    clf = DecisionTreeClassifier(ccp_alpha=a/20)\n",
    "    scores = []\n",
    "    for train_index, test_index in kf.split(X):\n",
    "        X_train, X_test = X[train_index], X[test_index]\n",
    "        y_train, y_test = y[train_index], y[test_index]\n",
    "        clf.fit(X_train, y_train)\n",
    "        y_pred = clf.predict(X_test)\n",
    "        scores.append(accuracy_score(y_test, y_pred))\n",
    "    print(f\"Average accuracy (ccp_alpha={a}): \", np.mean(scores))\n",
    "    listScores.append(np.mean(scores))\n",
    "\n",
    "plt.plot([0, 0.01, 0.02, 0.03, 0.05, 0.1, 0.2, 0.5, 1], listScores)\n",
    "\n"
   ]
  },
  {
   "cell_type": "markdown",
   "metadata": {},
   "source": [
    "## Naloga 2: Naključni gozd"
   ]
  },
  {
   "cell_type": "markdown",
   "metadata": {},
   "source": [
    "2.a: Na podatkih iz naloge 1 preizkusi točnost napovednega modela naključnega gozda. Preveri še kako dobro lahko točnost preverimo na OOB množici (parameter `oob_score` in atribut `oob_score_`).\n",
    "\n",
    "<details>\n",
    "  <summary>Namig:</summary>\n",
    "\n",
    "  *Pomagaj si z [modelom sklearn.ensemble.RandomForestClassifier](https://scikit-learn.org/stable/modules/generated/sklearn.ensemble.RandomForestClassifier.html).\n",
    "   \n",
    "</details>"
   ]
  },
  {
   "cell_type": "code",
   "execution_count": 19,
   "metadata": {},
   "outputs": [
    {
     "name": "stdout",
     "output_type": "stream",
     "text": [
      "Accuracy:  0.94\n",
      "OOB score:  0.91125\n",
      "Accuracy:  0.945\n",
      "OOB score:  0.92\n",
      "Accuracy:  0.9\n",
      "OOB score:  0.92625\n",
      "Accuracy:  0.945\n",
      "OOB score:  0.9175\n",
      "Accuracy:  0.95\n",
      "OOB score:  0.92375\n",
      "Average accuracy:  0.9359999999999999\n",
      "Average OOB score:  0.91975\n"
     ]
    }
   ],
   "source": [
    "from sklearn.ensemble import RandomForestClassifier\n",
    "\n",
    "np.random.seed(42)\n",
    "\n",
    "scores = []\n",
    "OOBscores = []\n",
    "\n",
    "for train_index, test_index in kf.split(X):\n",
    "    X_train, X_test = X[train_index], X[test_index]\n",
    "    y_train, y_test = y[train_index], y[test_index]\n",
    "    \n",
    "    clf = RandomForestClassifier(oob_score=True)\n",
    "    clf.fit(X_train, y_train)\n",
    "    y_pred = clf.predict(X_test)\n",
    "    print(\"Accuracy: \", accuracy_score(y_test, y_pred))\n",
    "    print(\"OOB score: \", clf.oob_score_)\n",
    "    scores.append(accuracy_score(y_test, y_pred))\n",
    "    OOBscores.append(clf.oob_score_)\n",
    "\n",
    "\n",
    "print(\"Average accuracy: \", np.mean(scores))\n",
    "print(\"Average OOB score: \", np.mean(OOBscores))\n",
    "\n"
   ]
  },
  {
   "cell_type": "markdown",
   "metadata": {},
   "source": [
    "2.b: Nariši grafa, ki prikazujeta kako se točnost (in točnost na OOB množici) spreminjajo glede na število dreves (`n_estimators`) in parameter mtry (`max_features`)"
   ]
  },
  {
   "cell_type": "code",
   "execution_count": null,
   "metadata": {},
   "outputs": [],
   "source": []
  },
  {
   "cell_type": "markdown",
   "metadata": {},
   "source": [
    "2.c: Natreniraj model naključnega gozda na vseh podatkih, preveri njegovo točnost na OOB množici in poglej relevantnost spremenljivk (atribut `feature_importances_`). Se relevantnost spremenljivk ujema z definicijo ciljne funkcije $1 + X_1 - 2* X_5 + 5 * (X_4 * X_5 - X_6*X_9)$?"
   ]
  },
  {
   "cell_type": "code",
   "execution_count": null,
   "metadata": {},
   "outputs": [],
   "source": []
  },
  {
   "cell_type": "markdown",
   "metadata": {},
   "source": [
    "## Naloga 3: Vrečenje (Bagging)"
   ]
  },
  {
   "cell_type": "markdown",
   "metadata": {},
   "source": [
    "3.a: Preizkusi model vrečenja z modelom odločitvenega drevesa. Kako se model primerja z modelom naključnega gozda?"
   ]
  },
  {
   "cell_type": "code",
   "execution_count": null,
   "metadata": {},
   "outputs": [],
   "source": []
  },
  {
   "cell_type": "markdown",
   "metadata": {},
   "source": [
    "3.b: Na podoben način lahko vrečimo tudi druge modele. Preveri točnost ansambla, ki ga sestavimo iz modelov podpornih vektorjev in ansambel modelov logistične regresije. Kako se točnost ansambla primerja z posameznim modelom podpornih vektorjev/logistične regresije?"
   ]
  },
  {
   "cell_type": "code",
   "execution_count": null,
   "metadata": {},
   "outputs": [],
   "source": []
  }
 ],
 "metadata": {
  "kernelspec": {
   "display_name": "itapVenvAll",
   "language": "python",
   "name": "python3"
  },
  "language_info": {
   "codemirror_mode": {
    "name": "ipython",
    "version": 3
   },
   "file_extension": ".py",
   "mimetype": "text/x-python",
   "name": "python",
   "nbconvert_exporter": "python",
   "pygments_lexer": "ipython3",
   "version": "3.9.7"
  }
 },
 "nbformat": 4,
 "nbformat_minor": 2
}

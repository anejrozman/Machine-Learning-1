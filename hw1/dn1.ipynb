{
 "cells": [
  {
   "cell_type": "markdown",
   "metadata": {},
   "source": [
    "# 1. Domača Naloga"
   ]
  },
  {
   "cell_type": "markdown",
   "metadata": {},
   "source": [
    "## Naloga 1: Linearna regresija"
   ]
  },
  {
   "cell_type": "markdown",
   "metadata": {},
   "source": [
    "1.a: Dopolni funkcijo `najdi_koeficiente`, ki vrne optimalne vrednosti koeficientov modela linearne regresije. Pomagaj si s prosojnicami iz predavanj, funkcijo za izračun inverza matrike `numpy.linalg.inv(array)` in operatorjem matričnega množenja, `numpy.matmul(array1, array2)` ali `@`. Pravilnost dopolnjene funkcije lahko preveriš s spodnjo kodo. \n",
    "\n",
    "Kakšne optimalne vrednosti koeficientov si pričakoval/a in kakšne si dobil/a? "
   ]
  },
  {
   "cell_type": "code",
   "execution_count": 1,
   "metadata": {},
   "outputs": [],
   "source": [
    "import numpy as np"
   ]
  },
  {
   "cell_type": "code",
   "execution_count": 2,
   "metadata": {},
   "outputs": [],
   "source": [
    "def najdi_koeficiente(x_train: np.array, y_train: np.array):\n",
    "    # Izračunaj optimalne vrednosit koeficientov in jih shrani v spremenljivko coefs\n",
    "    coefs = np.linalg.inv(x_train.T @ x_train) @ x_train.T @ y_train\n",
    "    return coefs"
   ]
  },
  {
   "cell_type": "code",
   "execution_count": 3,
   "metadata": {},
   "outputs": [
    {
     "name": "stdout",
     "output_type": "stream",
     "text": [
      "[ 1.00000000e+00  5.00000000e+00 -4.00027234e-15 -7.21644966e-16]\n"
     ]
    }
   ],
   "source": [
    "# Vzorčimo naključna števila v matriko dimenzij 1000x4,\n",
    "# ki podaja vrednosti štirih napovednih spremenljivk\n",
    "x = np.random.random((1000, 4))\n",
    "# Izračunamo vrednosti ciljne spremenljivke z modelom y = x1 + 5 x2\n",
    "y = x[:, 0] + 5*x[:, 1]\n",
    "# Izračunamo optimalne vrednosti koeficientov linearnega modela\n",
    "coefs = najdi_koeficiente(x, y)\n",
    "\n",
    "# Preverimo, če je matrika coefs ustreznih dimenzij\n",
    "assert coefs.shape == (4,)\n",
    "# Izpišemo vrednosti koeficientov\n",
    "print(coefs)"
   ]
  },
  {
   "cell_type": "markdown",
   "metadata": {},
   "source": [
    "1.b Smiselno dopolni funkciji `najdi_koeficiente2` in `napovej` tako, da boš z njima lahko sestavil model, ki bo imel RMSE $< 10^{-10}$ na testnih podatkih, dobljenih z modelom $y = x_1 + 5x_2 + 12$. Pomagaš si lahko s funkcijo `numpy.concatnate(seznam stolpcev, axis=1)`."
   ]
  },
  {
   "cell_type": "code",
   "execution_count": 32,
   "metadata": {},
   "outputs": [],
   "source": [
    "from sklearn.metrics import mean_squared_error"
   ]
  },
  {
   "cell_type": "code",
   "execution_count": 4,
   "metadata": {},
   "outputs": [],
   "source": [
    "def najdi_koeficiente2(x_train, y_train):\n",
    "    # Izračunaj optimalne vrednosti koeficientov in jih shrani v spremenljivko coefs\n",
    "    x_train = np.hstack((np.ones((x_train.shape[0], 1)), x_train))\n",
    "    coefs = np.linalg.inv(x_train.T @ x_train) @ x_train.T @ y_train\n",
    "    return coefs"
   ]
  },
  {
   "cell_type": "code",
   "execution_count": 34,
   "metadata": {},
   "outputs": [],
   "source": [
    "def napovej(coefs, x_test):\n",
    "    # Izračunaj napovedi linarnega modela z vrednostmi koeficientov coefs\n",
    "    # za primere iz x_test in jih shrani v y_pred\n",
    "    y_pred = x_test @ coefs[1:] + coefs[0]\n",
    "    return y_pred"
   ]
  },
  {
   "cell_type": "code",
   "execution_count": 61,
   "metadata": {},
   "outputs": [
    {
     "name": "stdout",
     "output_type": "stream",
     "text": [
      "Coeficients: 12.0, 1.0, 5.0, -0.0, 0.0\n",
      "RMSE: 1.4402628516812352e-14\n"
     ]
    }
   ],
   "source": [
    "# Vzorčimo matriko naključnih števil velikosti 1000x4\n",
    "x = np.random.random((1000, 4))\n",
    "# Definiramo ciljno spremenljivko\n",
    "y = x[:, 0] + 5*x[:, 1] + 12\n",
    "# Najdemo koeficiente\n",
    "coefs = najdi_koeficiente2(x, y)\n",
    "\n",
    "# Izpišemo koeficiente, funkcijo \"{nekej}\".join(seznam nizov) pretvori seznam nizov v niz oblike: \"{seznam[0]}{nekej}{seznam[1]}{nekej}...{nekej}{seznam[-1]}\"\n",
    "# Funkcija np.round(stevilo, celo število) zaokrozi število na \"celo število\" decimalnih mest\n",
    "print(f\"Coeficients: {', '.join([str(np.round(c, 3)) for c in coefs])}\")\n",
    "\n",
    "# Vzorčimo matriko naključnih števil velikosti 1000x4 za testno množico\n",
    "x_test = np.random.random((1000, 4))\n",
    "# Izračunamo ciljno spremenljivko\n",
    "y_test = x_test[:, 0] + 5*x_test[:, 1] + 12\n",
    "# Napovemo cilne vrednosti za testne napovedne podatke \n",
    "y_pred = napovej(coefs, x_test)\n",
    "# Izračunamo RMSE testnih napovedi\n",
    "error = np.sqrt(mean_squared_error(y_test, y_pred))\n",
    "print(f\"RMSE: {error}\")\n",
    "# Preverimo, da je napaka manjša od 10^{-10}\n",
    "assert error < 1e-10"
   ]
  },
  {
   "cell_type": "markdown",
   "metadata": {},
   "source": [
    "1.c: Naloži podatkovno množico iz datoteke `dn1_1.npy` in jo razdeli na podatke o napovednih spremenljivkah $x$ in podatke o ciljni spremenljivki $y$. Ciljna spremenljivka je v zadnjem stolpcu datoteke s podatkovno množico."
   ]
  },
  {
   "cell_type": "code",
   "execution_count": 6,
   "metadata": {},
   "outputs": [
    {
     "data": {
      "text/plain": [
       "2000"
      ]
     },
     "execution_count": 6,
     "metadata": {},
     "output_type": "execute_result"
    }
   ],
   "source": [
    "d1 = np.load('dn1_1.npy')\n",
    "x_train_1 = d1[:,:-1]\n",
    "y_train_1 = d1[:, -1].reshape(-1, 1)"
   ]
  },
  {
   "cell_type": "markdown",
   "metadata": {},
   "source": [
    "1.d: Čim bolje oceni točnost (ali napako) napovednega modela iz naloge 1.b. Predpostavi, da bo model naučen na vseh podatkih iz naloge 1.c in da bodo novi podatki prihajali iz iste domene (in verjetnostne porazdelitve) kot učni podatki."
   ]
  },
  {
   "cell_type": "code",
   "execution_count": null,
   "metadata": {},
   "outputs": [],
   "source": []
  },
  {
   "cell_type": "markdown",
   "metadata": {},
   "source": [
    "## Naloga 2: Logistična regresija"
   ]
  },
  {
   "cell_type": "markdown",
   "metadata": {},
   "source": [
    "2.a: Preberi podatkovno množico z diskretno ciljno spremenljivko iz datoteke `dn1_2.npz` (pomagaš si lahko z nalogo 2 iz vaj 3). Izračunaj nekaj preprostih statistik za vsako spremenljivko (stolpec) in podatke po potrebi predprocesiraj za potrebe učenja linearnega modela."
   ]
  },
  {
   "cell_type": "code",
   "execution_count": 9,
   "metadata": {},
   "outputs": [
    {
     "name": "stdout",
     "output_type": "stream",
     "text": [
      "Mean:  [-0.01664422  3.93709115  5.49976384  0.98036683  1.48634641  0.59712199\n",
      "  0.74531457  0.50850014]\n",
      "Standard deviation:  [1.76899549 2.90060088 0.85557046 0.56830939 1.44224079 0.23137687\n",
      " 0.14472136 0.28875373]\n",
      "Quantiles:  [[-1.55322015  1.39949574  4.76044785  0.49233866  0.22268825  0.39406743\n",
      "   0.6122823   0.25612893]\n",
      " [-0.06375526  3.84917229  5.48381429  0.96489185  1.47748935  0.5900379\n",
      "   0.74912656  0.51148163]\n",
      " [ 1.5777605   6.45473438  6.24392828  1.46454515  2.74878036  0.79782948\n",
      "   0.86835291  0.75839118]]\n"
     ]
    }
   ],
   "source": [
    "d2 = np.load('dn1_2.npz')\n",
    "X = d2['x']\n",
    "y = d2['y']\n",
    "\n",
    "# Povprecna vrednost spremenljivk\n",
    "X_mean = np.mean(X, axis=0)\n",
    "print(\"Mean: \", X_mean)\n",
    "\n",
    "# Standardni odklon spremenljivk\n",
    "X_std = np.std(X, axis=0)\n",
    "print(\"Standard deviation: \", X_std)\n",
    "\n",
    "# Kvartili spremenljivk \n",
    "X_q = np.quantile(X, [0.25, 0.5, 0.75], axis=0)\n",
    "print(\"Quantiles: \", X_q)\n",
    "\n",
    "# Normaliziraj podatke\n",
    "X_norm = (X - np.mean(X, axis=0)) / np.std(X, axis=0)"
   ]
  },
  {
   "cell_type": "markdown",
   "metadata": {},
   "source": [
    "2.b: Ovrednoti točnost (napako) in stabilnost modela logistične regresije. Poskrbi, da bodo eksperimenti ponovljivi in točnost modela čim bolje ocenjena. Če uporabiš prečno preverjanje, naj število vzorcev ne presega 10."
   ]
  },
  {
   "cell_type": "code",
   "execution_count": 16,
   "metadata": {},
   "outputs": [
    {
     "name": "stdout",
     "output_type": "stream",
     "text": [
      "Accuracy score: 0.9675\n",
      "Accuracy score: 0.9725\n",
      "Accuracy score: 0.96\n",
      "Accuracy score: 0.96\n",
      "Accuracy score: 0.945\n"
     ]
    }
   ],
   "source": [
    "from sklearn.linear_model import LogisticRegression \n",
    "from sklearn.metrics import accuracy_score\n",
    "from sklearn.model_selection import StratifiedKFold\n",
    "\n",
    "np.random.seed(42)\n",
    "\n",
    "logreg = LogisticRegression()\n",
    "skf = StratifiedKFold(n_splits=5, shuffle=True)\n",
    "\n",
    "\n",
    "for i, (train_index, test_index) in enumerate(skf.split(X_norm, y)):\n",
    "    # Razdeli na učno in testno množico\n",
    "    x_train, x_test = X_norm[train_index], X_norm[test_index]\n",
    "    y_train, y_test = y[train_index], y[test_index]\n",
    "\n",
    "    # Učenje modela\n",
    "    logreg.fit(x_train, y_train)\n",
    "\n",
    "    # Napovedovanje in ocenjevanje\n",
    "    acc = accuracy_score(y_test, logreg.predict(x_test))\n",
    "    print(\"Accuracy score:\", acc)"
   ]
  },
  {
   "cell_type": "markdown",
   "metadata": {},
   "source": [
    "2.c: Domenski ekspert vam je namignil, da je vrednost ciljne spremenljivke korelirana s kvadratom prve napovedne spremenljivke (X[:, 0]) in produktom prvih treh napovednih sprememnljivk (X[:, 0], X[:, 1], X[:, 2]). Ali lahko namig uporabiš za izboljšanje modela logistične regresije? Če ga lahko, ovrednoti izboljšanje.\n",
    "\n",
    "Opomba: Opozorilu o problemu s konvergenco se lahko izognete tako, da povečate število iteracij logistične regresije (npr. na 1000)."
   ]
  },
  {
   "cell_type": "code",
   "execution_count": 19,
   "metadata": {},
   "outputs": [
    {
     "name": "stdout",
     "output_type": "stream",
     "text": [
      "Accuracy score: 0.96\n",
      "Accuracy score: 0.9625\n",
      "Accuracy score: 0.965\n",
      "Accuracy score: 0.935\n",
      "Accuracy score: 0.97\n"
     ]
    }
   ],
   "source": [
    "# Dodajanje novih spremenljivk \n",
    "new_features = np.column_stack((X[:, 0]**2, X[:, 0]*X[:, 1]*X[:, 2]))\n",
    "X_new = np.hstack((X, new_features))\n",
    "\n",
    "# Normaliziraj podatke\n",
    "X_new_norm = (X_new - np.mean(X_new, axis=0)) / np.std(X_new, axis=0)\n",
    "\n",
    "for i, (train_index, test_index) in enumerate(skf.split(X_new_norm, y)):\n",
    "    # Razdeli na učno in testno množico\n",
    "    x_train, x_test = X_norm[train_index], X_norm[test_index]\n",
    "    y_train, y_test = y[train_index], y[test_index]\n",
    "\n",
    "    # Učenje modela\n",
    "    logreg.fit(x_train, y_train)\n",
    "\n",
    "    # Napovedovanje in ocenjevanje\n",
    "    acc = accuracy_score(y_test, logreg.predict(x_test))\n",
    "    print(\"Accuracy score:\", acc)"
   ]
  },
  {
   "cell_type": "markdown",
   "metadata": {},
   "source": [
    "2.d: Ali lahko s pomočjo logistične regresije ugotoviš nabor napovednih spremenljivk, ki za klasifikacijo niso pomembne? Če lahko ugotoviš, potem poročaj katere spremenljivke so v tem naboru, zakaj sodiš, da so v njem, in kakšna je točnost modela logistične regresije, če jih odstraniš iz podatkovne množice? \n",
    "\n",
    "Ali se rezultati med prejšnjim in sedanjim modelom zelo razlikujejo? Kaj je po tvoje razlog za to?"
   ]
  },
  {
   "cell_type": "code",
   "execution_count": null,
   "metadata": {},
   "outputs": [],
   "source": []
  },
  {
   "cell_type": "markdown",
   "metadata": {},
   "source": [
    "## Naloga 3: K-najbližjih sosedov"
   ]
  },
  {
   "cell_type": "markdown",
   "metadata": {},
   "source": [
    "3.a: Preberi podatkovno množico z diskretno ciljno spremenljiko iz datoteke `dn1_3.npz`.  "
   ]
  },
  {
   "cell_type": "code",
   "execution_count": 73,
   "metadata": {},
   "outputs": [],
   "source": [
    "d3 = np.load('dn1_3.npz')"
   ]
  },
  {
   "cell_type": "markdown",
   "metadata": {},
   "source": [
    "3.b: Sestavi napovedni model k-najbližjih sosedov s čim nižjim RMSE-jem. Poskrbi, da poleg ocene točnosti modela, poročaš tudi stabilnost ocene. Opiši, kakšen je tvoj model in kako/zakaj si se odločil za vsako izbiro. Opiši tudi eksperimente, ki si jih poskusil/a, a niso izboljšali rezultata.\n",
    "\n",
    "Opomba: Pomen spremenljivk je sledeč:\n",
    "- $x_1$: Zaporedna številka diamanta v bazi\n",
    "- $x_2$: Število karatov\n",
    "- $x_3$: Procent globine diamanta ($\\frac{2\\cdot z}{x+y}$)\n",
    "- $x_4$: Razmerje med širino vrha in najširšo točko\n",
    "- $x_5$: Dolžina diamanta\n",
    "- $x_6$: Širina diamanta\n",
    "- $x_7$: Globina diamanta\n",
    "- $x_8$: Oddaljenost najdišča od ekvatorja\n",
    "- $x_9$: Kvaliteta brusa (\"Ideal\": 4, \"Premium\": 3, \"Very Good\": 2, \"Good\": 1, \"Fair\": 0)\n",
    "- $x_{10}$: Barva (\"D\": 0, \"E\": 1, \"F\": 2, \"G\": 3, \"H\": 4, \"I\": 5, \"J\":6)\n",
    "- $x_{11}$: Čistost (\"I1\": 0, \"SI2\": 1, \"SI1\": 2, \"VS2\": 3, \"VS1\": 4, \"VVS2\": 5, \"VVS1\": 6, \"IF\": 7)\n",
    "- $y$: Cena diamanta\n"
   ]
  },
  {
   "cell_type": "code",
   "execution_count": null,
   "metadata": {},
   "outputs": [],
   "source": [
    "# Logika, normalizacija, dummy varables, dolocitev k-ja"
   ]
  }
 ],
 "metadata": {
  "kernelspec": {
   "display_name": "ITAP24",
   "language": "python",
   "name": "python3"
  },
  "language_info": {
   "codemirror_mode": {
    "name": "ipython",
    "version": 3
   },
   "file_extension": ".py",
   "mimetype": "text/x-python",
   "name": "python",
   "nbconvert_exporter": "python",
   "pygments_lexer": "ipython3",
   "version": "3.9.7"
  }
 },
 "nbformat": 4,
 "nbformat_minor": 2
}

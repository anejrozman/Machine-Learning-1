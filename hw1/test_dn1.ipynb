import pytest

from dn1 import napovej

def test_napovej():
    # Test case 1: Coefficients = [1, 2, 3], x_test = [[1, 2, 3], [4, 5, 6]]
    coefs = [1, 2, 3]
    x_test = [[1, 2, 3], [4, 5, 6]]
    expected_output = [14, 32]  # Expected output based on the given coefficients
    assert napovej(coefs, x_test) == expected_output

    # Test case 2: Coefficients = [0, 0, 0], x_test = [[1, 2, 3], [4, 5, 6]]
    coefs = [0, 0, 0]
    x_test = [[1, 2, 3], [4, 5, 6]]
    expected_output = [0, 0]  # Expected output based on the given coefficients
    assert napovej(coefs, x_test) == expected_output

    # Test case 3: Coefficients = [-1, -2, -3], x_test = [[1, 2, 3], [4, 5, 6]]
    coefs = [-1, -2, -3]
    x_test = [[1, 2, 3], [4, 5, 6]]
    expected_output = [-14, -32]  # Expected output based on the given coefficients
    assert napovej(coefs, x_test) == expected_output

    # Add more test cases as needed...

if __name__ == '__main__':
    pytest.main([__file__])
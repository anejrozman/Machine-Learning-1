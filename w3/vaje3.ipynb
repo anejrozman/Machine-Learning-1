{
 "cells": [
  {
   "cell_type": "markdown",
   "metadata": {},
   "source": [
    "# Vaje 3: Merjenje napovedne napake modela"
   ]
  },
  {
   "cell_type": "markdown",
   "metadata": {},
   "source": [
    "## Naloga 1: Prečno preverjanje in stabilnost modela"
   ]
  },
  {
   "cell_type": "code",
   "execution_count": 82,
   "metadata": {},
   "outputs": [
    {
     "data": {
      "text/plain": [
       "array([[0.28757752, 0.27362273, 0.15967398],\n",
       "       [0.78830514, 0.59386693, 0.14451585],\n",
       "       [0.40897692, 0.16018481, 0.14918039],\n",
       "       ...,\n",
       "       [0.39149875, 0.75208667, 0.06712062],\n",
       "       [0.70957985, 0.40160665, 0.43520844],\n",
       "       [0.10882407, 0.44855811, 0.68013496]])"
      ]
     },
     "execution_count": 82,
     "metadata": {},
     "output_type": "execute_result"
    }
   ],
   "source": [
    "import numpy as np\n",
    "\n",
    "# Preberemo podatke shranje v numpy formatu (s funkcijo numpy.save(pot, array))\n",
    "data = np.load(\"vaje3_1.npy\")\n",
    "X = data[:, :-1]\n",
    "y = data[:, -1]\n",
    "X"
   ]
  },
  {
   "cell_type": "markdown",
   "metadata": {},
   "source": [
    "1.a: Preveri (povprečno) točnost linearne regresije s petkratnim prečnim preverjanjem. Kako stabilen je model oz. kakšna je varianca dobljenih napak?\n",
    "\n",
    "<details>\n",
    "  <summary>Namig:</summary>\n",
    "\n",
    "  *Pomagaj si z [objektom sklearn.model_selection.KFold](https://scikit-learn.org/stable/modules/generated/sklearn.model_selection.KFold.html) in njegovo metodo split(X)*.\n",
    "   \n",
    "</details>"
   ]
  },
  {
   "cell_type": "code",
   "execution_count": 83,
   "metadata": {},
   "outputs": [
    {
     "name": "stdout",
     "output_type": "stream",
     "text": [
      "Model score: 0.18960165232406972\n",
      "Model score: 0.18638864123988205\n",
      "Model score: 0.1960588986624767\n",
      "Model score: 0.1771748443908929\n",
      "Model score: 0.17002566428275065\n",
      "Score variance: 8.485067415270995e-05\n"
     ]
    }
   ],
   "source": [
    "from sklearn.model_selection import KFold\n",
    "from sklearn.linear_model import LinearRegression\n",
    "from sklearn.metrics import mean_squared_error\n",
    "\n",
    "# Split data \n",
    "kf = KFold(n_splits=5)\n",
    "\n",
    "reg = LinearRegression()\n",
    "scores = [] # list of model scores\n",
    "coefficients = np.zeros((5, X.shape[1]+1)) # Matrix of coefficients\n",
    "i = 0\n",
    "for train_index, test_index in kf.split(X, y):\n",
    "    # Split data into test and train set\n",
    "    X_train, X_test = X[train_index], X[test_index]\n",
    "    y_train, y_test = y[train_index], y[test_index]\n",
    "\n",
    "    #Fit model\n",
    "    reg.fit(X_train, y_train)\n",
    "\n",
    "    #Calculate score\n",
    "    se = mean_squared_error(y_test, reg.predict(X_test))\n",
    "    print(\"Model score:\", np.sqrt(se))\n",
    "    scores.append(np.sqrt(se))\n",
    "\n",
    "    #Save coefficients and intercept\n",
    "    coefficients[i, 0] = reg.intercept_\n",
    "    coefficients[i, 1:] = reg.coef_\n",
    "    i += 1\n",
    "\n",
    "print(\"Score variance:\", np.var(scores))"
   ]
  },
  {
   "cell_type": "markdown",
   "metadata": {},
   "source": [
    "1.b: S prečnim preverjanjem sestavi pet modelov linearne regresije ter si (v matriko velikosti 5x4) shrani njihove začetne vrednosti in koeficiente. Se istoležni koeficienti v različnih vzorcih (Foldih) razlikujejo? Za koliko?"
   ]
  },
  {
   "cell_type": "code",
   "execution_count": 84,
   "metadata": {},
   "outputs": [
    {
     "data": {
      "text/plain": [
       "array([[-0.18415939,  1.50743854,  2.43282336,  1.47957335],\n",
       "       [-0.19639105,  1.52647655,  2.4416169 ,  1.47915122],\n",
       "       [-0.16964682,  1.51169294,  2.4205532 ,  1.46727743],\n",
       "       [-0.15786318,  1.48666751,  2.43633069,  1.47178237],\n",
       "       [-0.18573746,  1.49966098,  2.42805102,  1.50079499]])"
      ]
     },
     "execution_count": 84,
     "metadata": {},
     "output_type": "execute_result"
    }
   ],
   "source": [
    "# Each column represents the coefficient for one model in the form: y = b1 + b2*x1 + b3*x2\n",
    "\n",
    "coefficients\n"
   ]
  },
  {
   "cell_type": "markdown",
   "metadata": {},
   "source": [
    "1.c: Podatkom dodaj spremenljivke drugega reda ($x_1^2$, $x_1\\cdot x_2$, $x_1\\cdot x_3$, $x_2^2$, ...). Stolpce lahko združiš s funkcijo numpy.concatenate(seznam stolpcev, axis=1). "
   ]
  },
  {
   "cell_type": "code",
   "execution_count": 85,
   "metadata": {},
   "outputs": [],
   "source": [
    "# Add second order variables (poglej v resitve, misljeno je da dodasmo vse \n",
    "# kombinacije kvadratov in produktov spremenljivk)\n",
    "\n",
    "XExtra = np.array([X[:, 0]**2, X[:, 1]**2, X[:, 0]*X[:, 1]]) # x1^2, x2^2, x1*x2 variables\n",
    "\n",
    "X = np.concatenate((X, XExtra.T), axis=1)\n",
    "\n"
   ]
  },
  {
   "cell_type": "markdown",
   "metadata": {},
   "source": [
    "1.d: Preveri točnost linearne regresije na podatkih iz naloge 1.c s petkratnim prečnim preverjanjem. Se koeficienti modela bolj ali manj razlikujejo med različnimi vzorci?"
   ]
  },
  {
   "cell_type": "code",
   "execution_count": 90,
   "metadata": {},
   "outputs": [
    {
     "name": "stdout",
     "output_type": "stream",
     "text": [
      "Model score: 0.12971108239867477\n",
      "Model score: 0.13674574603964723\n",
      "Model score: 0.1263916088709987\n",
      "Model score: 0.12705994180945984\n",
      "Model score: 0.12126477470961572\n",
      "Score variance: 2.559490198434548e-05\n",
      "Coefficient matrix:\n"
     ]
    },
    {
     "data": {
      "text/plain": [
       "array([[-0.21647914,  1.80391937,  2.86018547,  1.49333945, -0.8105725 ,\n",
       "        -0.93980606,  1.01332118],\n",
       "       [-0.24423595,  1.88427615,  2.92771324,  1.47292813, -0.85300612,\n",
       "        -0.99473392,  0.99480839],\n",
       "       [-0.22673122,  1.81576364,  2.92590259,  1.48065408, -0.78607162,\n",
       "        -1.00764211,  0.97947199],\n",
       "       [-0.2065375 ,  1.78912485,  2.91707915,  1.47932503, -0.8091055 ,\n",
       "        -1.03106449,  1.05451385],\n",
       "       [-0.22596353,  1.80625632,  2.91929052,  1.49427694, -0.81017764,\n",
       "        -1.01461433,  1.0264871 ]])"
      ]
     },
     "execution_count": 90,
     "metadata": {},
     "output_type": "execute_result"
    }
   ],
   "source": [
    "reg2 = LinearRegression()\n",
    "scores2 = [] # list of model scores\n",
    "coefficients2 = np.zeros((5, X.shape[1]+1)) # Matrix of coefficients\n",
    "i = 0\n",
    "for train_index, test_index in kf.split(X, y):\n",
    "    # Split data into test and train set\n",
    "    X_train, X_test = X[train_index], X[test_index]\n",
    "    y_train, y_test = y[train_index], y[test_index]\n",
    "\n",
    "    #Fit model\n",
    "    reg2.fit(X_train, y_train)\n",
    "\n",
    "    #Calculate score\n",
    "    se = mean_squared_error(y_test, reg2.predict(X_test))\n",
    "    print(\"Model score:\", np.sqrt(se))\n",
    "    scores2.append(np.sqrt(se))\n",
    "\n",
    "    #Save coefficients and intercept\n",
    "    coefficients2[i, 0] = reg2.intercept_\n",
    "    coefficients2[i, 1:] = reg2.coef_\n",
    "    i += 1\n",
    "\n",
    "print(\"Score variance:\", np.var(scores2))\n",
    "\n",
    "print(\"Coefficient matrix:\")\n",
    "coefficients2\n"
   ]
  },
  {
   "cell_type": "markdown",
   "metadata": {},
   "source": [
    "## Naloga 2:  Stratificirano vzorčenje"
   ]
  },
  {
   "cell_type": "code",
   "execution_count": 91,
   "metadata": {},
   "outputs": [],
   "source": [
    "# Preberemo podatke iz datoteke vaje3_2.npz. Podatke x, y lahko shranimo v datoteko s končnico npz z uporabo funkcije numpy.savez(pot, x=x, y=y)\n",
    "data = np.load(\"vaje3_2.npz\")\n",
    "# Podatke shranimo v spremenljivko x\n",
    "x = data[\"x\"]\n",
    "# Ciljne vrednosti shranimo v spremenljivko y\n",
    "y = data[\"y\"]"
   ]
  },
  {
   "cell_type": "markdown",
   "metadata": {},
   "source": [
    "2.a: Preveri točnost logistične regresije s petkratnim prečnim preverjanjem. Izpiši točnost modela glede na metriko \"klasifikacijska točnost\" (accuracy) v vsakem vzorcu. Opaziš kaj nenavadnega?"
   ]
  },
  {
   "cell_type": "code",
   "execution_count": 97,
   "metadata": {},
   "outputs": [
    {
     "name": "stdout",
     "output_type": "stream",
     "text": [
      "Model score: 1.0\n",
      "Model score: 1.0\n",
      "Model score: 1.0\n",
      "Model score: 0.66\n",
      "Model score: 0.0\n"
     ]
    }
   ],
   "source": [
    "from sklearn.linear_model import LogisticRegression\n",
    "from sklearn.metrics import accuracy_score\n",
    "kf = KFold(n_splits=5)\n",
    "\n",
    "logreg = LogisticRegression()\n",
    "scores = [] # list of model scores\n",
    "predictions = [] # list of model predictions\n",
    "YValues = [] # list of Y's\n",
    "\n",
    "for i, (train_index, test_index) in enumerate(kf.split(x, y)):\n",
    "    # Split data into test and train set\n",
    "    x_train, x_test = x[train_index], x[test_index]\n",
    "    y_train, y_test = y[train_index], y[test_index]\n",
    "\n",
    "    #Fit model\n",
    "    logreg.fit(x_train, y_train)\n",
    "\n",
    "    #Calculate score\n",
    "    acc = accuracy_score(y_test, logreg.predict(x_test))\n",
    "    print(\"Model score:\", acc)\n",
    "    scores.append(acc)\n",
    "    predictions.append(logreg.predict(x_test))\n",
    "    YValues.append(y_test)"
   ]
  },
  {
   "cell_type": "markdown",
   "metadata": {},
   "source": [
    "2.b: Za vsak vzorec podatkov izpiši število pozitivnih in negativnih vrednosti ciljne spremenljivke v učni in testni množici. Zakaj se je točnost modela v nalogi 2.a tako razlikovala med različnimi vzorci?"
   ]
  },
  {
   "cell_type": "code",
   "execution_count": 100,
   "metadata": {},
   "outputs": [],
   "source": [
    "# Poglej pod variables v toolbarju tabeli predictions in YValues\n",
    "# Vidis, da so mnozice Y lahko samo 0 na zacetku in samo 1 na koncu, ko razrezemo  na 5 delov \n",
    "# so v prvih 3 samo 0 in model napoveduje samo 0, nato so pol 0 in pol 1 in model zadane polovico in \n",
    "# v zadnji mnozici pa je vse narobe."
   ]
  },
  {
   "cell_type": "markdown",
   "metadata": {},
   "source": [
    "2.c: Če je distribucija ciljne spremenljivke v vzorcih učne in testne množice podobna originalni distribuciji ciljne spremenljivke, takemu vzorčenju rečemo stratificirano vzorčenje. Sestavi stratificirane vzorce za petkratno prečno preverjanje in preveri koliko pozitivnih in koliko negativnih primerov vsebuje učna in testna množica.\n",
    "\n",
    "\n",
    "<details>\n",
    "  <summary>Namig:</summary>\n",
    "\n",
    "  *Pomagaj si z [objektom sklearn.model_selection.StratifiedKFold](https://scikit-learn.org/stable/modules/generated/sklearn.model_selection.StratifiedKFold.html) in njegovo metodo split(x, y)*.\n",
    "   \n",
    "</details>"
   ]
  },
  {
   "cell_type": "code",
   "execution_count": 102,
   "metadata": {},
   "outputs": [
    {
     "name": "stdout",
     "output_type": "stream",
     "text": [
      "Fold0 (train set): number of 1:161.0, number of 0:639.0\n",
      "Fold0 (test set): number of 1:40.0, number of 0:160.0\n",
      "Fold1 (train set): number of 1:161.0, number of 0:639.0\n",
      "Fold1 (test set): number of 1:40.0, number of 0:160.0\n",
      "Fold2 (train set): number of 1:161.0, number of 0:639.0\n",
      "Fold2 (test set): number of 1:40.0, number of 0:160.0\n",
      "Fold3 (train set): number of 1:161.0, number of 0:639.0\n",
      "Fold3 (test set): number of 1:40.0, number of 0:160.0\n",
      "Fold4 (train set): number of 1:160.0, number of 0:640.0\n",
      "Fold4 (test set): number of 1:41.0, number of 0:159.0\n",
      "Number of 1's in y: 201.0, number of 0's in y: 799.0\n"
     ]
    }
   ],
   "source": [
    "from sklearn.model_selection import StratifiedKFold\n",
    "skf = StratifiedKFold(n_splits=5)\n",
    "\n",
    "for i, (train_index, test_index) in enumerate(skf.split(x, y)):\n",
    "    print(f\"Fold{i} (train set): number of 1:{np.sum(y[train_index])}, number of 0:{len(y[train_index])-np.sum(y[train_index])}\" )\n",
    "    print(f\"Fold{i} (test set): number of 1:{np.sum(y[test_index])}, number of 0:{len(y[test_index])-np.sum(y[test_index])}\" )\n",
    "\n",
    "print(f\"Number of 1's in y: {np.sum(y)}, number of 0's in y: {len(y)-np.sum(y)}\")"
   ]
  },
  {
   "cell_type": "markdown",
   "metadata": {},
   "source": [
    "2.d: Preveri točnost logistične regresije s petkratnim prečnim preverjanjem na vzorcih, ki jih dobiš s stratificiranim vzorčenjem. So dobljeni modeli bolj stabilni? Si pričakoval/a da bodo dobljeni rezultati bolj stabilni?"
   ]
  },
  {
   "cell_type": "code",
   "execution_count": 103,
   "metadata": {},
   "outputs": [
    {
     "name": "stdout",
     "output_type": "stream",
     "text": [
      "Model score: 0.835\n",
      "Model score: 0.94\n",
      "Model score: 0.99\n",
      "Model score: 1.0\n",
      "Model score: 0.785\n"
     ]
    }
   ],
   "source": [
    "logreg2 = LogisticRegression()\n",
    "scores2 = [] # list of model scores\n",
    "predictions2 = [] # list of model predictions\n",
    "YValues2 = [] # list of Y's\n",
    "\n",
    "for i, (train_index, test_index) in enumerate(skf.split(x, y)):\n",
    "    # Split data into test and train set\n",
    "    x_train, x_test = x[train_index], x[test_index]\n",
    "    y_train, y_test = y[train_index], y[test_index]\n",
    "\n",
    "    #Fit model\n",
    "    logreg2.fit(x_train, y_train)\n",
    "\n",
    "    #Calculate score\n",
    "    acc = accuracy_score(y_test, logreg2.predict(x_test))\n",
    "    print(\"Model score:\", acc)\n",
    "    scores2.append(acc)\n",
    "    predictions2.append(logreg2.predict(x_test))\n",
    "    YValues2.append(y_test)"
   ]
  },
  {
   "cell_type": "markdown",
   "metadata": {},
   "source": [
    "2.e: Pred stratificiranim vzorčenjem podatke še premešaj. To narediš tako, da objektu StratifiedKFold dodaš parameter shuffle=True. So sedaj rezultati bolj stabilni? Kaj se zgodi, če kodo poženeš večkrat?"
   ]
  },
  {
   "cell_type": "code",
   "execution_count": null,
   "metadata": {},
   "outputs": [],
   "source": [
    "np.random.seed(42)\t\n",
    "\n",
    "skfShuffle = StratifiedKFold(n_splits=5, shuffle=True)\n",
    "\n",
    "# Copy paste of the above code, now the models are trained with shuffled data and are more accurate, \n",
    "# we set the random seed for reproducible results."
   ]
  },
  {
   "cell_type": "markdown",
   "metadata": {},
   "source": [
    "Opomba: Parameter shuffle naredi stratificirano vzorčenje stohastično s pomočjo generatorja naključnih števil. Z metodo numpy.random.seed(celo število) lahko poskrbimo, da bo generator vedno vračal ista naključna števil in bodo posledično naši eksperimenti ponovljivi.\n",
    "\n",
    "Pozor: Vpliv na točnost modela je le posledica random seed-a. V publikacijah se random uporablja le za ponovljivost eksperimentov (in ne kot: Najboljši rezultat dobimo pri random seed-u 18)"
   ]
  },
  {
   "cell_type": "markdown",
   "metadata": {},
   "source": [
    "## Dodatna naloga"
   ]
  },
  {
   "cell_type": "markdown",
   "metadata": {},
   "source": [
    "Premisli, kakšna bo povprečna točnost pri napovedovanju diskretne spremenljivke z modelom majority classifier (iz prvih vaj), če uporabimo poseben primer prečnega preverjena, ki ga imenujemo \"izpusti enega\" (leave-one-out). Predpostavi, da je ciljna spremenljivka enakomerno razporejena (vsaka ciljna vrednost se pojavi (število vrstic)/(število unikatnih vrednosti)-krat)."
   ]
  }
 ],
 "metadata": {
  "kernelspec": {
   "display_name": "ITAP24",
   "language": "python",
   "name": "python3"
  },
  "language_info": {
   "codemirror_mode": {
    "name": "ipython",
    "version": 3
   },
   "file_extension": ".py",
   "mimetype": "text/x-python",
   "name": "python",
   "nbconvert_exporter": "python",
   "pygments_lexer": "ipython3",
   "version": "3.9.7"
  }
 },
 "nbformat": 4,
 "nbformat_minor": 2
}
